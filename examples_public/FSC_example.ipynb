{
 "cells": [
  {
   "cell_type": "markdown",
   "metadata": {},
   "source": [
    "## Fourier Shell Correlation: measure the resolution of 2D/3D imaging data"
   ]
  },
  {
   "cell_type": "markdown",
   "metadata": {},
   "source": [
    "Computes the Fourier Shell Correlation (FSC) between two given 2d- or\n",
    "3d-images. In the 2D-setting this is also known as the Fourier Ring\n",
    "correlation (FRC).\n",
    "\n",
    "By comparing the FSC between two indepedent reconstructions\n",
    "of an object from two different data sets to the 1/2-bit-threshold\n",
    "curve, the achieved resolution can be estimated.\n",
    "\n",
    "https://www.ncbi.nlm.nih.gov/pmc/articles/PMC2923553/\n",
    "\n",
    "See details of the implementation in the FSC.py file. \n"
   ]
  },
  {
   "cell_type": "markdown",
   "metadata": {},
   "source": [
    "### Example\n",
    "\n",
    "##### Data:\n",
    "X-ray tomogram \n",
    "pixel size = 1.625e-07  <br>\n",
    "energy = 18 keV <br>\n",
    "projections per degree = 10  <br>\n",
    "\n",
    "FSC is cross-corrrelation between two 3D data-sets. They were reconstructed from same projection data. One tomo-set was reconstructed with odd projections (0.2 deg step), another one - with even. \n"
   ]
  },
  {
   "cell_type": "code",
   "execution_count": null,
   "metadata": {},
   "outputs": [],
   "source": [
    "import numpy as np\n",
    "import matplotlib.pyplot as plt\n",
    "from maximus48 import FSC\n",
    "\n",
    "\n",
    "# load two data-sets for the comparison\n",
    "folder = '/home/p3l-mpolikarpov/20191208/PROCESSED_DATA/FSC/'\n",
    "\n",
    "outs = np.load(folder + 'Platy_9603_set1.npy', mmap_mode = 'r')\n",
    "outs2 = np.load(folder + 'Platy_9603_set2.npy', mmap_mode = 'r')\n",
    "\n",
    "\n",
    "# 2x downsampling to reduce calculation time\n",
    "cut1 = outs[:, outs.shape[1]//4: 3*outs.shape[1]//4,\n",
    "               outs.shape[2]//4: 3*outs.shape[2]//4]\n",
    "\n",
    "cut2 = outs2[:,outs2.shape[1]//4: 3*outs2.shape[1]//4, \n",
    "               outs2.shape[2]//4: 3*outs2.shape[2]//4]\n",
    "\n",
    "# calculate FSC\n",
    "nu, frc = FSC.FSC(cut1, cut2)\n",
    "# nu are frequencies \n",
    "# frc are FSC values"
   ]
  },
  {
   "cell_type": "code",
   "execution_count": 11,
   "metadata": {},
   "outputs": [
    {
     "data": {
      "image/png": "[encoded data removed]",
      "text/plain": [
       "<Figure size 432x288 with 1 Axes>"
      ]
     },
     "metadata": {},
     "output_type": "display_data"
    },
    {
     "name": "stdout",
     "output_type": "stream",
     "text": [
      "resolution is [0.855] microns\n"
     ]
    },
    {
     "data": {
      "text/plain": [
       "'\\nFiles:\\n\\nPlaty-Platy_9901_40x_tomo3600_even.npy - tomo-recon with even projections proj[1::2]\\nPlaty-Platy_9901_40x_tomo3600_odd.npy - tomo-recon with odd projections proj[0::2]\\nPlaty-Platy_9901_40x_fsc1800_odd_even.npy - FSC result\\n\\nscript - FSC_Platy_superresolution5.py\\n'"
      ]
     },
     "execution_count": 11,
     "metadata": {},
     "output_type": "execute_result"
    }
   ],
   "source": [
    "# plot results\n",
    "pixel = 0.1625 * 1e-6\n",
    "\n",
    "plt.plot(nu/0.1625, frc)\n",
    "plt.plot(nu/0.1625, 0.5*np.ones(np.size(nu)), linestyle = 'dashed')\n",
    "plt.ylabel('FSC')\n",
    "plt.xlabel('frequencies (1/microns)')\n",
    "plt.show()\n",
    "\n",
    "# resolution measurement\n",
    "number = np.argwhere(frc<=0.5)[0]\n",
    "resolution = 1/nu[number] * pixel\n",
    "print('resolution is %s microns' % str(resolution*1e6))"
   ]
  }
 ],
 "metadata": {
  "kernelspec": {
   "display_name": "Python 3",
   "language": "python",
   "name": "python3"
  },
  "language_info": {
   "codemirror_mode": {
    "name": "ipython",
    "version": 3
   },
   "file_extension": ".py",
   "mimetype": "text/x-python",
   "name": "python",
   "nbconvert_exporter": "python",
   "pygments_lexer": "ipython3",
   "version": "3.6.10"
  }
 },
 "nbformat": 4,
 "nbformat_minor": 2
}
