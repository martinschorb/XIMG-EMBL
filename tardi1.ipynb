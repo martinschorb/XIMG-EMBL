{
 "cells": [
  {
   "cell_type": "markdown",
   "metadata": {},
   "source": [
    "# Experiment Platy reconstruction\n",
    "- 18 keV\n",
    "- 'Platy' sample\n",
    "- distances (motors): 136 140 146 155\n",
    "- distances (real): 61 65 71 80 mm\n",
    "- 40x objective: pixel = 0.1625 nm"
   ]
  },
  {
   "cell_type": "code",
   "execution_count": null,
   "metadata": {},
   "outputs": [],
   "source": [
    "import os\n",
    "# os.environ['OMP_NUM_THREADS'] ='1'\n",
    "# os.environ['OPENBLAS_NUM_THREADS'] = '1'\n",
    "# os.environ['MKL_NUM_THREADS'] = '1'\n",
    "#os.system('taskset -cp 0-100 %d' % os.getpid())\n",
    "\n",
    "import sys, time\n",
    "import dxchange, tomopy\n",
    "import numpy as np\n",
    "import tifffile\n",
    "from scipy.ndimage import rotate\n",
    "from contextlib import closing\n",
    "from multiprocessing import Pool\n",
    "import gc\n",
    "from maximus48 import monochromaticCTF as CTF \n",
    "\n",
    "from maximus48 import var\n",
    "from maximus48 import SSIM_131119 as SSIM_sf \n",
    "from maximus48 import multiCTF2 as multiCTF\n",
    "from maximus48.SSIM_131119 import SSIM_const \n",
    "from maximus48.tomo_proc3 import (Processor, F, tonumpyarray, rotscan)\n",
    "from maximus48 import FSC\n",
    "\n",
    "from pybdv import make_bdv \n",
    "\n",
    "import dask\n",
    "import dask.array as da\n",
    "from dask.array.image import imread\n",
    "\n",
    "from dask.distributed import Client, progress\n",
    "\n",
    "from dask_jobqueue import SLURMCluster\n",
    "import os\n",
    "\n"
   ]
  },
  {
   "cell_type": "markdown",
   "metadata": {},
   "source": [
    "### Sample list\n",
    "\n",
    "###### 40x objective (0.1625um pixel) | ROI | distances:"
   ]
  },
  {
   "cell_type": "code",
   "execution_count": null,
   "metadata": {},
   "outputs": [],
   "source": [
    "%cd /g/emcf/schorb/data/HH_tardi\n",
    "\n",
    "%ls *_00001.tiff\n"
   ]
  },
  {
   "cell_type": "markdown",
   "metadata": {},
   "source": [
    "Useful data:\n",
    "- ..."
   ]
  },
  {
   "cell_type": "code",
   "execution_count": null,
   "metadata": {},
   "outputs": [],
   "source": [
    "folder = '/g/emcf/schorb/data/HH_tardi/pin1/mid1/'\n",
    "folder_result = '/g/emcf/schorb/data/HH_tardi/pin1/mid1/rec1/'\n",
    "data_name = 'x'\n",
    "\n",
    "file = folder + data_name + '_1_00001.tiff'\n",
    "ROI = (100,100,1900,1900)\n",
    "#ROI = (0,100,2048,2048)\n",
    "\n",
    "distances = (1,2,3,4)\n",
    "N_distances  = 4      \n",
    "\n",
    "\n",
    "image = var.read_image(file, ROI = ROI)\n",
    "# var.show(image)\n",
    "\n",
    "# =============================================================================\n",
    "#  initialize parameters for phase retrieval with CTF\n",
    "# =============================================================================\n",
    "N_steps = 10                                                                   # Number of projections per degree\n",
    "N_start = 1                                                                    # index of the first file\n",
    "N_finish = 3600                                                                # index of the last file\n",
    "\n",
    "pixel = 0.1625 * 1e-6                                                          # pixel size \n",
    "distance = np.array((6.1, 6.5, 7.1, 8), dtype = 'float32') * 1e-2              # distances of your measurements \n",
    "energy = 18                                                                    # photon energy in keV\n",
    "beta_delta = 0.15\n",
    "zero_compensation = 0.05\n",
    "ROI = (0,100,2048,2048)                                                        # ROI of the image to be read (x,y,x1,y1 at the image - inverse to numpy!)\n",
    "cp_count = 80                                                                 # number of cores for multiprocessing\n",
    "inclination = -0.23    \n",
    "\n",
    "wavelength = var.wavelen(energy)\n",
    "fresnelN = pixel**2/(wavelength*distance)\n",
    "\n",
    "print(fresnelN)"
   ]
  },
  {
   "cell_type": "markdown",
   "metadata": {},
   "source": [
    "## Align distances"
   ]
  },
  {
   "cell_type": "code",
   "execution_count": null,
   "metadata": {},
   "outputs": [],
   "source": [
    "# =============================================================================\n",
    "# fft image and average over all angles\n",
    "# =============================================================================\n",
    "if (image.shape[0] != image.shape[1]):\n",
    "    raise Exception('The image is not square. Please make it square and try again')\n",
    "#var.show(image)\n",
    "\n",
    "im = fft2(image)\n",
    "im = np.log(abs(fftshift(im)))\n",
    "var.show(im)"
   ]
  },
  {
   "cell_type": "markdown",
   "metadata": {},
   "source": [
    "If the there are rings, this means that CTF function (and phase contrast) is there. Normally 1-2 rings is already a good catch."
   ]
  },
  {
   "cell_type": "code",
   "execution_count": null,
   "metadata": {},
   "outputs": [],
   "source": [
    "# reproject to polar coordinates\n",
    "im = polar_image().reproject_image_into_polar(im)[:,:,0]\n",
    "var.show(im)"
   ]
  },
  {
   "cell_type": "code",
   "execution_count": null,
   "metadata": {},
   "outputs": [],
   "source": [
    "# sum over all angles\n",
    "im = np.sum(im, axis = 1)\n",
    "#im = polar_image().baseline(im)\n",
    "plt.plot(im)"
   ]
  },
  {
   "cell_type": "code",
   "execution_count": null,
   "metadata": {},
   "outputs": [],
   "source": [
    "# pick only meaningful region\n",
    "a = 10\n",
    "b = 300\n",
    "\n",
    "data = im[a:b]\n",
    "\n",
    "# substract the baseline\n",
    "data = polar_image().baseline(data)\n",
    "\n",
    "plt.plot(data)"
   ]
  },
  {
   "cell_type": "code",
   "execution_count": null,
   "metadata": {},
   "outputs": [],
   "source": [
    "# =============================================================================\n",
    "# spline fit the curve\n",
    "# =============================================================================\n",
    "x = np.linspace(0, data.shape[0], len(data), dtype = 'uint16')\n",
    "y = data\n",
    "    \n",
    "pfit = np.polyfit(x, y, 40)                         # returns polynomial coefficients\n",
    "yp = np.polyval(pfit, x)                            # fits the curve,\n",
    "\n",
    "plt.plot(data)\n",
    "plt.plot(yp)\n",
    "plt.show()"
   ]
  },
  {
   "cell_type": "code",
   "execution_count": null,
   "metadata": {},
   "outputs": [],
   "source": [
    "# =============================================================================\n",
    "# calculate theoretical CTF\n",
    "# =============================================================================\n",
    "distance = 6.1 * 1e-2                                      # distance in m\n",
    "fresnelN0 = pixel**2/(wavelength*distance)\n",
    "\n",
    "CTF_theory = CTF.CTF_function(image, fresnelN0, beta_delta =0.15)\n",
    "plt.plot(CTF_theory[a:b])"
   ]
  },
  {
   "cell_type": "code",
   "execution_count": null,
   "metadata": {},
   "outputs": [],
   "source": [
    "#### plot both together\n",
    "\n",
    "# =============================================================================\n",
    "# prepare the plot \n",
    "# =============================================================================\n",
    "\n",
    "scale_a = data\n",
    "#scale_a = yp\n",
    "scale_b = CTF_theory[a:b]\n",
    "\n",
    "scale_a = scale_a/np.max(scale_a) + 0.7#0.6\n",
    "scale_b = scale_b/np.max(scale_b)\n",
    "\n",
    "# =============================================================================\n",
    "# find local minima of both functions and plot result\n",
    "# =============================================================================\n",
    "min_a = argrelextrema(scale_a, np.less)  #np.greater or np.less\n",
    "min_b = argrelextrema(scale_b, np.less)\n",
    "\n",
    "plt.plot(scale_a, 'r')\n",
    "plt.plot(scale_b, 'g')\n",
    "#plt.legend(('minima_exp='+str(min_a),'minima_theor='+str(min_b)))\n",
    "plt.show()\n"
   ]
  },
  {
   "cell_type": "markdown",
   "metadata": {},
   "source": [
    "##### Tune distances and delta/beta to make two curves fit. Note:\n",
    "    - delta/beta change moves the curve parallel. \n",
    "    - Distance change moves it parallel + changes the distance between minima.\n",
    "    \n",
    "You may use raw data or interpolated plot for the comparison with theoretical CTF. \n"
   ]
  },
  {
   "cell_type": "markdown",
   "metadata": {},
   "source": [
    "## See if the result looks good"
   ]
  },
  {
   "cell_type": "code",
   "execution_count": null,
   "metadata": {},
   "outputs": [],
   "source": [
    "# =============================================================================\n",
    "#  initialize parameters for phase retrieval with CTF\n",
    "# =============================================================================\n",
    "pixel = 0.1625 * 1e-6                                                        # pixel size \n",
    "distance = 6.1 * 1e-2                                                         # distances for your measurements\n",
    "energy = 18                                                                 # photon energy in keV\n",
    "beta_delta = 0.2\n",
    "zero_compensation = 0.05\n",
    "Npad = 200                                                                  # number to pad before phase retrieval\n",
    "# Npad = image.shape[0]//4\n",
    "\n",
    "wavelength = var.wavelen(energy)\n",
    "fresnelN0 = pixel**2/(wavelength*distance)"
   ]
  },
  {
   "cell_type": "code",
   "execution_count": null,
   "metadata": {},
   "outputs": [],
   "source": [
    "# =============================================================================\n",
    "# # CTF retrieval \n",
    "# =============================================================================\n",
    "# pad with border values\n",
    "filt = np.pad(image, ((Npad, Npad),(Npad, Npad)), 'edge')\n",
    "\n",
    "# calculate CTF\n",
    "test_CTF = CTF.single_distance_CTF(filt, beta_delta, fresnelN0, zero_compensation)\n",
    "\n",
    "# unpad\n",
    "test_CTF = test_CTF[Npad:test_CTF.shape[0]-Npad,Npad:test_CTF.shape[1]-Npad]\n",
    "\n",
    "# show\n",
    "var.show(test_CTF)\n"
   ]
  },
  {
   "cell_type": "markdown",
   "metadata": {},
   "source": [
    "##### Looks reasonable. \n",
    "We may try to proceed like that. If the tomogram will look bad => you may try to reduce delta/beta to get more phase retrieval effect. Tune zero_compensation if you are not happy with stron CTF-artifacts (high-frequency aliasing). I typically choose the number between 0.01 (no filter) and 0.01 (slightly blurred).\n",
    "\n",
    "\n",
    "\n",
    "## GO\n",
    "\n",
    "Start the processing\n"
   ]
  },
  {
   "cell_type": "code",
   "execution_count": null,
   "metadata": {
    "scrolled": true
   },
   "outputs": [],
   "source": [
    "# =============================================================================\n",
    "#    prepartion work \n",
    "# =============================================================================\n",
    "print('\\n##################################################################\\n',\n",
    "      data_name, \"started with %d cpus on\" % cp_count, time.ctime(),\n",
    "      '\\n##################################################################\\n')\n",
    "time1 = time.time()\n",
    "\n",
    "\n",
    "worker_cpu = 4\n",
    "\n",
    "workers_per_job = 2\n",
    "\n",
    "\n",
    "cluster = SLURMCluster(\n",
    "    cores=worker_cpu * workers_per_job,\n",
    "    processes=workers_per_job,\n",
    "    memory=\"32GB\",\n",
    "    shebang='#!/usr/bin/env bash',\n",
    "    walltime=\"00:30:00\",\n",
    "    local_directory='/tmp',\n",
    "    death_timeout=\"15s\")\n"
   ]
  },
  {
   "cell_type": "code",
   "execution_count": null,
   "metadata": {},
   "outputs": [],
   "source": [
    "cluster.scale(1)\n",
    "\n",
    "cluster.close()"
   ]
  },
  {
   "cell_type": "code",
   "execution_count": null,
   "metadata": {},
   "outputs": [],
   "source": [
    "client = Client(cluster)\n"
   ]
  },
  {
   "cell_type": "code",
   "execution_count": null,
   "metadata": {},
   "outputs": [],
   "source": [
    "maxnodes = 10\n",
    "\n",
    "ca = cluster.adapt(\n",
    "    minimum = workers_per_job, maximum=maxnodes * workers_per_job,\n",
    "    #target_duration=\"360s\",  # measured in CPU time per worker\n",
    "                             # -> 30 seconds at 12 cores / worker\n",
    "    scale_factor=1.0  # prevent from scaling up because of CPU or MEM need\n",
    ")\n"
   ]
  },
  {
   "cell_type": "code",
   "execution_count": null,
   "metadata": {},
   "outputs": [],
   "source": [
    "#calculate parameters for phase-retrieval\n",
    "wavelength = var.wavelen(energy)\n",
    "fresnelN = pixel**2/(wavelength*distance)\n",
    "\n",
    "#create save folder if it doesn't exist\n",
    "if not os.path.exists(folder_result):\n",
    "    os.makedirs(folder_result)\n",
    "\n",
    "\n",
    "# create a class to store all necessary parameters for parallelization\n",
    "Pro = Processor(ROI, folder, N_start, N_finish, compNpad = 8)                 \n",
    "\n",
    "#set proper paths\n",
    "Pro.init_paths(data_name, folder, distances) \n",
    "\n",
    "#allocate memory to store flatfield\n",
    "shape_ff = (N_distances, len(Pro.flats[0]), Pro.im_shape[0], Pro.im_shape[1]) \n",
    "\n",
    "a=(len(Pro.flats[0]), Pro.im_shape[0], Pro.im_shape[1])\n",
    "\n",
    "ff_l =[]\n",
    "\n",
    "for i in range(N_distances):\n",
    "    fname = Pro.flats[i][0].rsplit('_00')[0]\n",
    "    ff_l.append(imread(fname+'*')[:,ROI[1]:ROI[3], ROI[0]:ROI[2]])\n",
    "    \n",
    "ff = da.stack(ff_l)\n",
    "\n",
    "\n",
    "#calculate ff-related constants\n",
    "Pro.ROI_ff = (ff.shape[3]//4, ff.shape[2]//4,3 * ff.shape[3]//4, 3 * ff.shape[2]//4)    # make ROI for further flatfield and shift corrections, same logic as for normal ROI\n",
    "ff_con = np.zeros(N_distances, 'object')                                                # array of classes to store flatfield-related constants\n",
    "\n",
    "\n",
    "indexes_shape = (N_finish - N_start, N_distances)\n",
    "\n",
    "shifts_shape = (N_finish - N_start, N_distances, 2)\n",
    "\n",
    "proj_shape = (Pro.N_files, shape_ff[2], shape_ff[3] + 2*Pro.Npad)\n",
    "\n",
    "ff_shape = (N_distances, len(Pro.flats[0]), Pro.im_shape[0], Pro.im_shape[1]) \n",
    "\n",
    "\n",
    "\n",
    "for i in np.arange(N_distances):    \n",
    "    ff_con[i] = SSIM_const(ff[i][:,Pro.ROI_ff[1]:Pro.ROI_ff[3], \n",
    "                                   Pro.ROI_ff[0]:Pro.ROI_ff[2]].transpose(1,2,0))"
   ]
  },
  {
   "cell_type": "code",
   "execution_count": null,
   "metadata": {},
   "outputs": [],
   "source": [
    "def read_flat(j,Pro): \n",
    "    \n",
    "    \"\"\"\n",
    "    j: int\n",
    "        an index of the file that should be processed \n",
    "    Please note, j always starts from zero\n",
    "    To open correct file, images array uses images[i][j + N_start-1]\n",
    "    \"\"\"\n",
    "\n",
    "    \n",
    "    ROI_ff = Pro.ROI_ff\n",
    "    ROI = Pro.ROI\n",
    "    images = Pro.images\n",
    "    N_start = Pro.N_start\n",
    "    Npad = Pro.Npad\n",
    "     \n",
    "    #read image and do ff-retrieval    \n",
    "    filt = []\n",
    "        \n",
    "    imnames = images[0][j].partition('_'+str(distances[0])+'_')[0]+'_*_'+'{:05d}'.format(1)+'.'+images[0][j].partition('.')[-1]\n",
    "    \n",
    "    im = imread(imnames)[:,ROI[1]:ROI[3], ROI[0]:ROI[2]]\n",
    "    maxcorridx = []\n",
    "    \n",
    "    filts = []\n",
    "    \n",
    "    for i in np.arange(len(images)):        \n",
    "        maxcorridx=(dask.delayed(np.argmax)(SSIM_sf.SSIM(SSIM_const(im[i][ROI_ff[1]:ROI_ff[3], ROI_ff[0]:ROI_ff[2]]), \n",
    "                                        ff_con[i]).ssim()))\n",
    "        \n",
    "        filts.append(im[i]/ff[i][maxcorridx.compute()])\n",
    "    \n",
    "    filt = da.stack(filts)\n",
    "    \n",
    "    im_gau0 = var.filt_gauss_laplace(filt[0][ROI_ff[1]:ROI_ff[3], ROI_ff[0]:ROI_ff[2]],\n",
    "                                    sigma = 5)\n",
    "    thisshift = []\n",
    "    \n",
    "    for i in range(len(filt)):\n",
    "        im_gau1 = dask.delayed(var.filt_gauss_laplace)(filt[i][ROI_ff[1]:ROI_ff[3], ROI_ff[0]:ROI_ff[2]],\n",
    "                                    sigma = 5)\n",
    "        thisshift.append(dask.delayed(var.shift_distance)(im_gau0, im_gau1, 10))\n",
    "    \n",
    "    \n",
    "    filt0 = dask.delayed(multiCTF.shift_imageset)(filt, thisshift)\n",
    "\n",
    "    filt0 = dask.delayed(np.pad)(filt0, ((0,0),(Npad, Npad),(Npad, Npad)), 'edge')               # padding with border values\n",
    "    filt0 = dask.delayed(multiCTF.multi_distance_CTF)(filt0, beta_delta, \n",
    "                                          fresnelN, zero_compensation)\n",
    "    filt0 = filt0[Npad:(filt0.shape[0]-Npad),:]\n",
    "    \n",
    "    return da.from_array(filt0.compute())\n",
    "    \n",
    "    \n",
    "    "
   ]
  },
  {
   "cell_type": "code",
   "execution_count": null,
   "metadata": {},
   "outputs": [],
   "source": [
    "res = []\n",
    "for tilt in range(120):\n",
    "    res.append(dask.delayed(read_flat)(tilt,Pro))\n",
    "    \n",
    "\n",
    "results = dask.compute(*res)"
   ]
  },
  {
   "cell_type": "code",
   "execution_count": null,
   "metadata": {},
   "outputs": [],
   "source": [
    "    \n",
    "    #set local variables\n",
    "    ff = tonumpyarray(ff_shared.shared_array_base, ff_shared.shape, ff_shared.dtype)\n",
    "    proj_loc = tonumpyarray(proj.shared_array_base, proj.shape, proj.dtype)\n",
    "    shift = tonumpyarray(shifts.shared_array_base, shifts.shape, shifts.dtype)\n",
    "    #LoI = tonumpyarray(indexes.shared_array_base, indexes.shape, indexes.dtype)    \n",
    "\n",
    "    #save to memory\n",
    "    proj_loc[j] = filt    \n",
    "    #print('sucessfully processed file: ', images[0][j + N_start-1])                                   # unpad images from the top\n",
    "        "
   ]
  },
  {
   "cell_type": "code",
   "execution_count": null,
   "metadata": {},
   "outputs": [],
   "source": [
    "# =============================================================================\n",
    "# Process projections\n",
    "# =============================================================================\n",
    "    \n",
    "#do phase retrieval\n",
    "time1 = time.time()\n",
    "with closing(Pool(cp_count, initializer = init)) as pool:    \n",
    "    pool.map(read_flat, np.arange(Pro.N_files)) \n",
    "print('time for ff+shifts: ', time.time()-time1)"
   ]
  }
 ],
 "metadata": {
  "celltoolbar": "Raw Cell Format",
  "kernelspec": {
   "display_name": "Python 3",
   "language": "python",
   "name": "python3"
  },
  "language_info": {
   "codemirror_mode": {
    "name": "ipython",
    "version": 3
   },
   "file_extension": ".py",
   "mimetype": "text/x-python",
   "name": "python",
   "nbconvert_exporter": "python",
   "pygments_lexer": "ipython3",
   "version": "3.8.8"
  }
 },
 "nbformat": 4,
 "nbformat_minor": 4
}
